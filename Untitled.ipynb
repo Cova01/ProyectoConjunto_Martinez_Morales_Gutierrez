{
 "cells": [
  {
   "cell_type": "markdown",
   "id": "62455410",
   "metadata": {},
   "source": [
    "# Estudiante 1: Andrés Martinez Covarrubias\n",
    "**Mis expectativas sobre el curso:**"
   ]
  },
  {
   "cell_type": "markdown",
   "id": "3547dbcb",
   "metadata": {},
   "source": [
    "# Estudiante 2: Eduardo Gutierrez Flores\n",
    "**Mis expectativas sobre el curso:**"
   ]
  },
  {
   "cell_type": "markdown",
   "id": "42bc9de2",
   "metadata": {},
   "source": [
    "# Estudiante 3: José de Jesús Morales Dominguez\n",
    "**Expectativa del curso:**\n",
    "Del curso de simulación de procesos financieros espero aprender a recrear procesos financieros tomando en cuenta múltiples variables importantes, con el fin de tener una idea sobre cómo se comportará un proyecto de inversión en el futuro, y así poder tomar decisiones más informado.\n",
    "# Fórmula 2 (tarea estudiante 3):\n",
    "$$\n",
    "\\begin{array}{|l|l|l|l|l|}\n",
    "\\hline\n",
    " i & 1 & 2 & 3 & 4 & 5 & 6 & 7 \\\\ \\hline\n",
    " E_i(V) & 12 & 10  & 24  & 12 & - & - & - \\\\ \\hline\n",
    " r_i(\\Omega) & 0.1 & 0.5 & - & - & - & - & - \\\\ \\hline\n",
    " R_i(\\Omega) & 25 & 40 & 16 & 20 & 9 & 4 & 20 \\\\ \\hline\n",
    "\\end{array}\n",
    "$$\n",
    "\n",
    "<span style=\"color:blue\">Kemna y Vorst (1990)</span> muestran que las opciones asiáticas con media geométrica continua se\n",
    "\n",
    "pueden valuar con el mismo enfoque que las opciones *plain vainilla*; solo se deben cambiar los\n",
    "\n",
    "parámetros de volatilidad $\\sigma$ por $\\sigma_a$, y el costo de acarreo $b$ por $b_A$.\n",
    "\n",
    "De acuerdo con Kemna y Vorst, las fórmulas para valuar una opción de compra y una opción \n",
    "\n",
    "de venta son:\n",
    "$$\n",
    "c\\approx S_te^{(b_A-r)(T-t)}\\varPhi(d_1) - Ke^{-r(T-t)}\\varPhi(d_2),\n",
    "$$\n",
    "$$\n",
    "p\\approx Ke^{-r(T-t)}\\varPhi(-d_2) - S_te^{(b_A-r)(T-t)}\\varPhi(-d_1).\n",
    "$$\n",
    "con $d_1$ y $d_2$ dados por:\n",
    "$$\n",
    "d_1=\\frac{ln(S_t/K) + (b_A + 1/2\\sigma^{2}_a)(T-t)}{\\sigma\\sqrt{T-t}},\n",
    "$$\n",
    "$$\n",
    "d_2=d_1-\\sigma_a\\sqrt{T-t}.\n",
    "$$\n",
    "La función $\\varPhi(d)$ es la función de distribución acumulada de $E\\sim \\mathcal{N}(0,1)$. La volatilidad ajustada\n",
    "\n",
    "es igual a:\n",
    "$$\n",
    "\\sigma_a=\\frac{\\sigma}{\\sqrt{3}},\n",
    "$$\n",
    "mientras que el costo de acarreo es:\n",
    "$$\n",
    "b_A=\\frac{1}{2}(v-\\frac{\\sigma^2}{6}).\n",
    "$$"
   ]
  },
  {
   "cell_type": "code",
   "execution_count": null,
   "id": "a49fe218",
   "metadata": {},
   "outputs": [],
   "source": []
  }
 ],
 "metadata": {
  "kernelspec": {
   "display_name": "Python 3 (ipykernel)",
   "language": "python",
   "name": "python3"
  },
  "language_info": {
   "codemirror_mode": {
    "name": "ipython",
    "version": 3
   },
   "file_extension": ".py",
   "mimetype": "text/x-python",
   "name": "python",
   "nbconvert_exporter": "python",
   "pygments_lexer": "ipython3",
   "version": "3.11.5"
  }
 },
 "nbformat": 4,
 "nbformat_minor": 5
}
