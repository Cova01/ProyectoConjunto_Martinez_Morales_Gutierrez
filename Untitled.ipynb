{
 "cells": [
  {
   "cell_type": "markdown",
   "id": "62455410",
   "metadata": {},
   "source": [
    "# Estudiante 1: Andrés Martinez Covarrubias\n",
    "**Mis expectativas sobre el curso:**"
   ]
  },
  {
   "cell_type": "markdown",
   "id": "df08d733",
   "metadata": {},
   "source": [
    "# Estudiante 2: Eduardo Gutierrez Flores\n",
    "**Mis expectativas sobre el curso:**"
   ]
  },
  {
   "cell_type": "markdown",
   "id": "68b8d54a",
   "metadata": {},
   "source": [
    "# Estudiante 2: José de Jesús Morales Dominguez\n",
    "**Mis expectativas sobre el curso:**"
   ]
  }
 ],
 "metadata": {
  "kernelspec": {
   "display_name": "Python 3 (ipykernel)",
   "language": "python",
   "name": "python3"
  },
  "language_info": {
   "codemirror_mode": {
    "name": "ipython",
    "version": 3
   },
   "file_extension": ".py",
   "mimetype": "text/x-python",
   "name": "python",
   "nbconvert_exporter": "python",
   "pygments_lexer": "ipython3",
   "version": "3.11.5"
  }
 },
 "nbformat": 4,
 "nbformat_minor": 5
}
