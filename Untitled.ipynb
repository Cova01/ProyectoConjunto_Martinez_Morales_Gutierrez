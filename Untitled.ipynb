{
 "cells": [
  {
   "cell_type": "markdown",
   "id": "21fe44c0",
   "metadata": {},
   "source": [
    "<img style=\"float: left; margin: 30px 15px 15px 15px;\" src=\"https://encrypted-tbn0.gstatic.com/images?q=tbn:ANd9GcTFzQj91sOlkeDFkg5HDbjtR4QJYmLXkfMNig&usqp=CAU\" width=\"500\" height=\"500\" /> \n",
    "    \n",
    "    \n",
    "### <font color='navy'> Simulación de Procesos Financieros. \n",
    "\n",
    "\n",
    "    \n",
    "**Nombres:** Andres Martinez Covarrubias, Eduardo Gutiérrez Flores, Jose de Jesus Morales Dominguez.\n",
    "\n",
    "**Fecha:** 29 de Enero del 2024.\n",
    "\n",
    "**Expediente** : ,742298,741305.\n",
    "    \n",
    "**Profesor:** Oscar David Jaramillo Zuluaga.\n",
    "    \n",
    "**Link Github**: \n",
    "\n",
    "# Tarea 1: Clase 2"
   ]
  },
  {
   "cell_type": "markdown",
   "id": "e3a4e4d4",
   "metadata": {},
   "source": [
    "| i          | 1   | 2   | 3   | 4   | 5 | 6 | 7  |\n",
    "|------------|-----|-----|-----|-----|---|---|----|\n",
    "| $$E_i (V)  $$   | 12  | 10  | 24  | 12  | - | - | -  |\n",
    "| $$4r_i (\\Omega ) $$| 0.1 | 0.5 | 0.2 | 0.5 | - | - | -  |\n",
    "| $$R_i (\\Omega ) $$| 25  | 40  | 16  | 20  | 9 | 4 | 20 |"
   ]
  },
  {
   "cell_type": "raw",
   "id": "4f5c4d64",
   "metadata": {},
   "source": [
    "# Código de solución estudiante 2\n",
    "| i          | 1   | 2   | 3   | 4   | 5 | 6 | 7  |\n",
    "|------------|-----|-----|-----|-----|---|---|----|\n",
    "| $$E_i (V)  $$   | 12  | 10  | 24  | 12  | - | - | -  |\n",
    "| $$4r_i (\\Omega ) $$| 0.1 | 0.5 | 0.2 | 0.5 | - | - | -  |\n",
    "| $$R_i (\\Omega ) $$| 25  | 40  | 16  | 20  | 9 | 4 | 20 |"
   ]
  },
  {
   "cell_type": "markdown",
   "id": "8bb5d720",
   "metadata": {},
   "source": [
    "<span style=\"font-family: 'Times New Roman'; color: #0080FF; font-weight: bold;\">Kemma y Vorst (1990)</span> <span style=\"font-family: 'Times New Roman'; color: black;\">muestran que las opciones asiáticas con media geométrica continua se pueden valuar con el mismo enfoque de las opciones plain vanilla; solo se deben cambiar los parámetros de volatilidad a por $\\sigma$ y el costo de acarreo \\$b$ por $b_A$. \n",
    "    \n",
    "<span style=\"font-family: 'Times New Roman'; color: black;\">   De acuerdo con Kemna y Vorst, las fórmulas para valuar una opción de compra y una opción de venta son:\n",
    "\n",
    "$$\n",
    "c ≈ S_t e^{(b_A - r)(T-t)} \\phi (d_1) - Ke^{-r(T-t)}\\phi (d_2)\n",
    "$$\n",
    "    \n",
    "    \n",
    "$$\n",
    "p ≈ Ke^{-r(T-t)}\\phi (-d_2) - S_t e^{(b_A - r)(T-t)} \\phi (-d_1)\n",
    "$$\n",
    "    \n",
    "<span style=\"font-family: 'Times New Roman'; color: black;\"> con $d_1$ y $d_2$ dados por:\n",
    "    \n",
    "$$\n",
    "d_1 = \\frac{ln (S_t/K) + (b_A + 1 / 2\\sigma^{2}_a)(T-t)}{ \\sigma \\sqrt{T-t}}\n",
    "$$\n",
    "\n",
    "$$\n",
    "d_2 = d_1 - \\sigma \\sqrt{T-t}\n",
    "$$\n",
    "    \n",
    "<span style=\"font-family: 'Times New Roman'; color: black;\"> La función $\\phi$($d$) es  la función de distribución acumulada de $E$~$N$(0,1).La volatilidad ajustada es igual a:\n",
    "    \n",
    "$$\n",
    "\\sigma = \\frac{\\sigma}{\\sqrt{3}} \n",
    "$$\n",
    "    \n",
    "<span style=\"font-family: 'Times New Roman'; color: black;\"> mientras que el costo de acarreo ajustado es:\n",
    "    \n",
    "$$\n",
    "b_A = \\frac{1}{2}(v-\\frac{\\sigma^{2}}{6})\n",
    "$$"
   ]
  },
  {
   "cell_type": "raw",
   "id": "b7ba6f5f",
   "metadata": {},
   "source": [
    "# Código de solución estudiante 2\n",
    "\n",
    "<span style=\"font-family: 'Times New Roman'; color: #0080FF; font-weight: bold;\">Kemma y Vorst (1990)</span> <span style=\"font-family: 'Times New Roman'; color: black;\">muestran que las opciones asiáticas con media geométrica continua se pueden valuar con el mismo enfoque de las opciones plain vanilla; solo se deben cambiar los parámetros de volatilidad a por $\\sigma$ y el costo de acarreo \\$b$ por $b_A$. \n",
    "    \n",
    "<span style=\"font-family: 'Times New Roman'; color: black;\">   De acuerdo con Kemna y Vorst, las fórmulas para valuar una opción de compra y una opción de venta son:\n",
    "\n",
    "$$\n",
    "c ≈ S_t e^{(b_A - r)(T-t)} \\phi (d_1) - Ke^{-r(T-t)}\\phi (d_2)\n",
    "$$\n",
    "    \n",
    "    \n",
    "$$\n",
    "p ≈ Ke^{-r(T-t)}\\phi (-d_2) - S_t e^{(b_A - r)(T-t)} \\phi (-d_1)\n",
    "$$\n",
    "    \n",
    "<span style=\"font-family: 'Times New Roman'; color: black;\"> con $d_1$ y $d_2$ dados por:\n",
    "    \n",
    "$$\n",
    "d_1 = \\frac{ln (S_t/K) + (b_A + 1 / 2\\sigma^{2}_a)(T-t)}{ \\sigma \\sqrt{T-t}}\n",
    "$$\n",
    "\n",
    "$$\n",
    "d_2 = d_1 - \\sigma \\sqrt{T-t}\n",
    "$$\n",
    "    \n",
    "<span style=\"font-family: 'Times New Roman'; color: black;\"> La función $\\phi$($d$) es  la función de distribución acumulada de $E$~$N$(0,1).La volatilidad ajustada es igual a:\n",
    "    \n",
    "$$\n",
    "\\sigma = \\frac{\\sigma}{\\sqrt{3}} \n",
    "$$\n",
    "    \n",
    "<span style=\"font-family: 'Times New Roman'; color: black;\"> mientras que el costo de acarreo ajustado es:\n",
    "    \n",
    "$$\n",
    "b_A = \\frac{1}{2}(v-\\frac{\\sigma^{2}}{6})\n",
    "$$"
   ]
  },
  {
   "cell_type": "markdown",
   "id": "34382529",
   "metadata": {},
   "source": [
    "### Expectativas del Curso"
   ]
  },
  {
   "cell_type": "markdown",
   "id": "dfb1bd03",
   "metadata": {},
   "source": [
    "#### Estudiante 2\n",
    "Aprender a desarrollar modelos con el objetivo de analizar posibles escenarios y tomar decisiones acertadas, adquirir habilidades y fluidez en github y gitkraken, trabajar en equipo en la resolución de problemas. "
   ]
  },
  {
   "cell_type": "markdown",
   "id": "b0f77538",
   "metadata": {},
   "source": [
    "### Programa de números primos\n",
    "#### Estudiante 2"
   ]
  },
  {
   "cell_type": "code",
   "execution_count": 4,
   "id": "460fa29e",
   "metadata": {},
   "outputs": [
    {
     "name": "stdout",
     "output_type": "stream",
     "text": [
      "2\n",
      "3\n",
      "5\n",
      "7\n",
      "11\n",
      "13\n",
      "17\n",
      "19\n",
      "23\n",
      "29\n",
      "31\n",
      "37\n",
      "41\n",
      "43\n",
      "47\n",
      "53\n",
      "59\n",
      "61\n",
      "67\n",
      "71\n",
      "73\n",
      "79\n",
      "83\n",
      "89\n",
      "97\n"
     ]
    }
   ],
   "source": [
    "# Números primos 1 - 100\n",
    "\n",
    "def numeros_primos(num):\n",
    "    \n",
    "    if num <= 1:\n",
    "        return False\n",
    "    for i in range(2, num):\n",
    "        if num % i == 0:\n",
    "            return False\n",
    "    return True\n",
    "\n",
    "for num in range(0, 101):\n",
    "    if numeros_primos(num):\n",
    "        print(num)\n"
   ]
  },
  {
   "cell_type": "raw",
   "id": "244d5aa1",
   "metadata": {},
   "source": [
    "# Código de solución estudiante 2\n",
    "\n",
    "def numeros_primos(num):\n",
    "    \n",
    "    if num <= 1:\n",
    "        return False\n",
    "    for i in range(2, num):\n",
    "        if num % i == 0:\n",
    "            return False\n",
    "    return True\n",
    "\n",
    "for num in range(0, 101):\n",
    "    if numeros_primos(num):\n",
    "        print(num)\n"
   ]
  },
  {
   "cell_type": "code",
   "execution_count": null,
   "id": "394be9fc",
   "metadata": {},
   "outputs": [],
   "source": []
  }
 ],
 "metadata": {
  "kernelspec": {
   "display_name": "Python 3 (ipykernel)",
   "language": "python",
   "name": "python3"
  },
  "language_info": {
   "codemirror_mode": {
    "name": "ipython",
    "version": 3
   },
   "file_extension": ".py",
   "mimetype": "text/x-python",
   "name": "python",
   "nbconvert_exporter": "python",
   "pygments_lexer": "ipython3",
   "version": "3.9.13"
  }
 },
 "nbformat": 4,
 "nbformat_minor": 5
}
