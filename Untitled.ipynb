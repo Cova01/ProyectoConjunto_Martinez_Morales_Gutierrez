{
 "cells": [
  {
   "cell_type": "markdown",
   "id": "0b9b9514",
   "metadata": {},
   "source": []
  },
  {
   "cell_type": "markdown",
   "id": "44a37fdc",
   "metadata": {},
   "source": [
    "| i | x | f(x) |\n",
    "|:-:|:----:|---|\n",
    "| <span style=\"color:black;\">0</span> | <span style=\"color:black;\">-1</span> | <span style=\"color:black;\">0.3678</span> |\n",
    "| <span style=\"color:red;\">1</span> | <span style=\"color:red;\">-0.5</span> | <span style=\"color:red;\">0.7788</span> |\n",
    "| <span style=\"color:blue;\">2</span> | <span style=\"color:blue;\">0</span> | <span style=\"color:blue;\">1</span> |\n",
    "| <span style=\"color:red;\">3</span> | <span style=\"color:red;\">.5</span> | <span style=\"color:red;\">.7788</span> |\n",
    "| <span style=\"color:black;\">4</span> | <span style=\"color:black;\">1</span> | <span style=\"color:black;\">0.3678</span> |"
   ]
  },
  {
   "cell_type": "markdown",
   "id": "da586200",
   "metadata": {},
   "source": [
    "![\\int_{-1}^{1} e^{-x^2} \\,dx \\approx \\frac{0.5}{3} \\left[ f(-1) + f(1) + 4(\\color{red}{f(-0.5) + f(0.5)}) + \\color{blue}{2f(0)} \\right]](https://latex.codecogs.com/svg.latex?\\int_{-1}^{1}e^{-x^2}\\,dx\\approx\\frac{0.5}{3}\\left[f(-1)+f(1)+4(\\color{red}{f(-0.5)+f(0.5)})+\\color{blue}{2f(0)}\\right])"
   ]
  },
  {
   "cell_type": "markdown",
   "id": "efd7a2f1",
   "metadata": {},
   "source": [
    "![\\approx \\frac{0.5}{3}\\left[0.3678+4\\left(<span style=\"color:red;\">.7788+.7788</span>\\right)+<span style=\"color:blue;\">2\\cdot1</span>\\right]\\approx 1.4943](https://latex.codecogs.com/svg.latex?\\approx\\frac{0.5}{3}\\left[0.3678+4\\left(\\color{red}{.7788+.7788}\\right)+\\color{blue}{2\\cdot1}\\right]\\approx1.4943)\n"
   ]
  },
  {
   "cell_type": "markdown",
   "id": "6308622a",
   "metadata": {},
   "source": [
    "  A modo de verificación, se calculara por software, el valor del area para n=100, un valor mucho más elevado al que se utilizo anteriormente. Si lo calculado previamente es correcto, se esperaría que sea próximo al valor prentado a continuación para ser una buena aproximación."
   ]
  },
  {
   "cell_type": "markdown",
   "id": "efda4671",
   "metadata": {},
   "source": [
    "![\\int_{-1}^{1} e^{-x^2} \\,dx \\approx 1.4936](https://latex.codecogs.com/svg.latex?\\int_{-1}^{1}e^{-x^2}\\,dx\\approx1.4936)"
   ]
  },
  {
   "cell_type": "code",
   "execution_count": null,
   "id": "c7c757ae",
   "metadata": {},
   "outputs": [],
   "source": [
    "def fibonacci(n):\n",
    "    if n == 0 or n == 1:\n",
    "        return n\n",
    "    else:\n",
    "        return fibonacci(n - 1) + fibonacci(n - 2)\n",
    "\n",
    "\n",
    "def main():\n",
    "    array = []\n",
    "    for i in range(100):\n",
    "        array.append(fibonacci(i))\n",
    "    print(array)\n",
    "\n",
    "\n",
    "if __name__ == \"__main__\":\n",
    "    main()"
   ]
  },
  {
   "cell_type": "code",
   "execution_count": null,
   "id": "43cc0471",
   "metadata": {},
   "outputs": [],
   "source": [
    "array = []\n",
    "\n",
    "for i in range(100):\n",
    "    if i == 0 or i == 1:\n",
    "        array.append(i)\n",
    "    else:\n",
    "        array.append(array[i - 1] + array[i - 2])\n",
    "\n",
    "print(array)"
   ]
  },
  {
   "cell_type": "code",
   "execution_count": null,
   "id": "d648ede1",
   "metadata": {},
   "outputs": [],
   "source": []
  }
 ],
 "metadata": {
  "kernelspec": {
   "display_name": "Python 3 (ipykernel)",
   "language": "python",
   "name": "python3"
  },
  "language_info": {
   "codemirror_mode": {
    "name": "ipython",
    "version": 3
   },
   "file_extension": ".py",
   "mimetype": "text/x-python",
   "name": "python",
   "nbconvert_exporter": "python",
   "pygments_lexer": "ipython3",
   "version": "3.11.5"
  }
 },
 "nbformat": 4,
 "nbformat_minor": 5
}
